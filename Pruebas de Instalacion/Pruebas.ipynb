{
 "cells": [
  {
   "cell_type": "code",
   "execution_count": 2,
   "id": "12cf510f",
   "metadata": {},
   "outputs": [],
   "source": [
    "import re"
   ]
  },
  {
   "cell_type": "code",
   "execution_count": 10,
   "id": "1b3036a5",
   "metadata": {},
   "outputs": [
    {
     "name": "stdout",
     "output_type": "stream",
     "text": [
      "(0, 3)\n",
      "<re.Match object; span=(0, 3), match='www'>\n",
      "(11, 14)\n"
     ]
    }
   ],
   "source": [
    "print(re.match('www','www.huawei.com').span())\n",
    "print(re.match('www','www.huawei.com')) # None\n",
    "print(re.search('com','www.huawei.com').span())"
   ]
  },
  {
   "cell_type": "code",
   "execution_count": 22,
   "id": "6686eb6d",
   "metadata": {},
   "outputs": [
    {
     "name": "stdout",
     "output_type": "stream",
     "text": [
      "4.375\n"
     ]
    }
   ],
   "source": [
    "A1 = 0.5\n",
    "C1 = 0\n",
    "A2 = 7.5\n",
    "C2 = 10\n",
    "notafinal = (A1+A2)*.25/.4/2+(C1+C2)*.15/.4/2\n",
    "print(notafinal)\n"
   ]
  },
  {
   "cell_type": "code",
   "execution_count": null,
   "id": "af70dd1e",
   "metadata": {},
   "outputs": [],
   "source": [
    "n = input('Digite um número: ')\n",
    "if"
   ]
  }
 ],
 "metadata": {
  "kernelspec": {
   "display_name": "base",
   "language": "python",
   "name": "python3"
  },
  "language_info": {
   "codemirror_mode": {
    "name": "ipython",
    "version": 3
   },
   "file_extension": ".py",
   "mimetype": "text/x-python",
   "name": "python",
   "nbconvert_exporter": "python",
   "pygments_lexer": "ipython3",
   "version": "3.12.3"
  }
 },
 "nbformat": 4,
 "nbformat_minor": 5
}
