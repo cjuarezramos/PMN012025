{
 "cells": [
  {
   "cell_type": "code",
   "execution_count": 2,
   "id": "12cf510f",
   "metadata": {},
   "outputs": [],
   "source": [
    "import re"
   ]
  },
  {
   "cell_type": "code",
   "execution_count": 10,
   "id": "1b3036a5",
   "metadata": {},
   "outputs": [
    {
     "name": "stdout",
     "output_type": "stream",
     "text": [
      "(0, 3)\n",
      "<re.Match object; span=(0, 3), match='www'>\n",
      "(11, 14)\n"
     ]
    }
   ],
   "source": [
    "print(re.match('www','www.huawei.com').span())\n",
    "print(re.match('www','www.huawei.com')) # None\n",
    "print(re.search('com','www.huawei.com').span())"
   ]
  },
  {
   "cell_type": "code",
   "execution_count": 1,
   "id": "6686eb6d",
   "metadata": {},
   "outputs": [
    {
     "name": "stdout",
     "output_type": "stream",
     "text": [
      "2 es primo\n"
     ]
    }
   ],
   "source": [
    "# Solucion si n es un número primo\n",
    "n = int(input('Ingrese un nùmero:'))\n",
    "for i in range(2, n):\n",
    "    if n % i == 0:\n",
    "        print(f'{n} no es primo')\n",
    "        break\n",
    "else:\n",
    "    print(f'{n} es primo')"
   ]
  }
 ],
 "metadata": {
  "kernelspec": {
   "display_name": "base",
   "language": "python",
   "name": "python3"
  },
  "language_info": {
   "codemirror_mode": {
    "name": "ipython",
    "version": 3
   },
   "file_extension": ".py",
   "mimetype": "text/x-python",
   "name": "python",
   "nbconvert_exporter": "python",
   "pygments_lexer": "ipython3",
   "version": "3.12.7"
  }
 },
 "nbformat": 4,
 "nbformat_minor": 5
}
