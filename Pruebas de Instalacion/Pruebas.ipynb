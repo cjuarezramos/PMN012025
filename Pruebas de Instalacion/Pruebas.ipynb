{
 "cells": [
  {
   "cell_type": "code",
   "execution_count": 2,
   "id": "12cf510f",
   "metadata": {},
   "outputs": [],
   "source": [
    "import re"
   ]
  },
  {
   "cell_type": "code",
   "execution_count": 10,
   "id": "1b3036a5",
   "metadata": {},
   "outputs": [
    {
     "name": "stdout",
     "output_type": "stream",
     "text": [
      "(0, 3)\n",
      "<re.Match object; span=(0, 3), match='www'>\n",
      "(11, 14)\n"
     ]
    }
   ],
   "source": [
    "print(re.match('www','www.huawei.com').span())\n",
    "print(re.match('www','www.huawei.com')) # None\n",
    "print(re.search('com','www.huawei.com').span())"
   ]
  },
  {
   "cell_type": "code",
   "execution_count": 1,
   "id": "6686eb6d",
   "metadata": {},
   "outputs": [],
   "source": [
    "f = open('test.txt', 'w', encoding='utf-8')\n",
    "inputs = input('entrada ? ')\n",
    "f.write(inputs)\n",
    "f.close()"
   ]
  },
  {
   "cell_type": "code",
   "execution_count": 2,
   "id": "a24eea19",
   "metadata": {},
   "outputs": [
    {
     "name": "stdout",
     "output_type": "stream",
     "text": [
      "Excelente tutorial\n"
     ]
    }
   ],
   "source": [
    "f = open('test.txt', 'r')\n",
    "print(f.read())\n",
    "f.close()"
   ]
  },
  {
   "cell_type": "code",
   "execution_count": 10,
   "id": "94335f4d",
   "metadata": {},
   "outputs": [
    {
     "name": "stdout",
     "output_type": "stream",
     "text": [
      "N = 5.625\n"
     ]
    }
   ],
   "source": [
    "A2 = 9\n",
    "C2 = 10\n",
    "A4 = 3\n",
    "C4 = 0\n",
    "N = (A2+A4)/2*25/40+(C2+C4)/2*15/40\n",
    "print('N =', N)"
   ]
  }
 ],
 "metadata": {
  "kernelspec": {
   "display_name": "base",
   "language": "python",
   "name": "python3"
  },
  "language_info": {
   "codemirror_mode": {
    "name": "ipython",
    "version": 3
   },
   "file_extension": ".py",
   "mimetype": "text/x-python",
   "name": "python",
   "nbconvert_exporter": "python",
   "pygments_lexer": "ipython3",
   "version": "3.12.3"
  }
 },
 "nbformat": 4,
 "nbformat_minor": 5
}
