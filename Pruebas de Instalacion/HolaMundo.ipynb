{
 "cells": [
  {
   "cell_type": "markdown",
   "metadata": {},
   "source": [
    "# Primer programa\n",
    "## Uso de JupiterLab\n",
    "JupiterLab nos permite crear \"cuadernos\", esto facilita completar código con textos\n",
    "Este texto en particular esta escrito en un bloque que se titula **Markdown**\n",
    "Este bloque no se ejecuta en Python"
   ]
  },
  {
   "cell_type": "code",
   "execution_count": null,
   "metadata": {},
   "outputs": [],
   "source": [
    "# Esta celda es para código ya en python, debe seguir su sintaxis de forma adecuada\n",
    "# el numeral se emplea para poner comentarios en el código.\n",
    "# print es la función que imprime un mensaje en pantalla.\n",
    "print(\"Hola Mundo\")\n",
    "print('Tu programa se ha ejecutado correctamente')\n"
   ]
  }
 ],
 "metadata": {
  "kernelspec": {
   "display_name": "base",
   "language": "python",
   "name": "python3"
  },
  "language_info": {
   "codemirror_mode": {
    "name": "ipython",
    "version": 3
   },
   "file_extension": ".py",
   "mimetype": "text/x-python",
   "name": "python",
   "nbconvert_exporter": "python",
   "pygments_lexer": "ipython3",
   "version": "3.12.3"
  }
 },
 "nbformat": 4,
 "nbformat_minor": 4
}
