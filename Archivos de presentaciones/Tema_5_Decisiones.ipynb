{
 "cells": [
  {
   "cell_type": "markdown",
   "metadata": {
    "jp-MarkdownHeadingCollapsed": true
   },
   "source": [
    "# Programación estructurada\n",
    "Se basa en dos partes:\n",
    "1. Estructuras de control de flujo   \n",
    "    a. Secuenciales  \n",
    "    b. Decisiones  \n",
    "    c. Iteraciones  \n",
    "2. Modularidad\n"
   ]
  },
  {
   "cell_type": "markdown",
   "metadata": {
    "vscode": {
     "languageId": "plaintext"
    }
   },
   "source": [
    "# Secuencias\n",
    "**Ejemplo ET0501**  \n",
    "Haga un programa que solicite al usuario dos números enteros y arroje como resultado el cociente y residuo de la operación división.\n"
   ]
  },
  {
   "cell_type": "code",
   "execution_count": null,
   "metadata": {},
   "outputs": [],
   "source": [
    "# Autor: Carlos Juarez\n",
    "# Fecha: 20/03/25\n",
    "# Descripción: Ejemplo de clases ET0501 pide dos numeros y \n",
    "# da como resultado cociente y residuo\n",
    "a = int(input('Ingrese un número entero: ')) # input para solicitar algo al usuario\n",
    "b = int(input('Ingrese otro número entero: ')) # int para convertir a entero\n",
    "# Calcular cociente\n",
    "cociente = a//b # // calcula el entero de la division o cociente\n",
    "residuo = a % b # % calcula el módulo o residuo de la división\n",
    "# Imprimir resultados\n",
    "print(f\"Cociente de {a}/{b} es {cociente}\")\n",
    "print(f\"Residuo de {a}/{b} es {residuo}\")"
   ]
  },
  {
   "cell_type": "markdown",
   "metadata": {},
   "source": [
    "**Reto RT0501**  \n",
    "Haga un programa para encontrar el cuadrado y la raíz de un número ingresado por el usuario."
   ]
  },
  {
   "cell_type": "code",
   "execution_count": null,
   "metadata": {},
   "outputs": [],
   "source": [
    "# Autor: Carlos Juarez\n",
    "# Fecha: 20/03/25\n",
    "# Descripción: Ejemplo de clases ET0501 pide dos numeros y \n",
    "# da como resultado cociente y residuo\n",
    "a = int(input('Ingrese un número entero: ')) # input para solicitar algo al usuario\n",
    "b = int(input('Ingrese otro número entero: ')) # int para convertir a entero\n",
    "# Calcular cociente\n",
    "cociente = a//b # // calcula el entero de la division o cociente\n",
    "residuo = a % b # % calcula el módulo o residuo de la división\n",
    "# Imprimir resultados\n",
    "print(f\"Cociente de {a}/{b} es {cociente}\")\n",
    "print(f\"Residuo de {a}/{b} es {residuo}\")"
   ]
  },
  {
   "cell_type": "markdown",
   "metadata": {},
   "source": [
    "# Decisiones\n",
    "## Condicional if\n",
    "**Ejemplo ET0502**  \n",
    "Haga un programa que le solicite al usuario un número entero.  \n",
    "Su programa debe informar que efectivamente el número ingresado es negativo.  \n",
    "Además, enviar un mensaje de despedida al finalizar la ejecución del programa."
   ]
  },
  {
   "cell_type": "code",
   "execution_count": null,
   "metadata": {},
   "outputs": [],
   "source": [
    "# Autor: Carlos Juarez\n",
    "# Fecha: 20/03/25\n",
    "# Descripción: Ejemplo ET0502 numero negativo\n",
    "n = float(input('Ingrese un número: '))\n",
    "if n<0 :\n",
    "    print('El número ingresado es negativo')\n",
    "print('Ha finalizado el programa, bye!')"
   ]
  },
  {
   "cell_type": "markdown",
   "metadata": {},
   "source": [
    "**Reto RT0502**  \n",
    "Diseñe un algoritmo y codifíquelo en Python para saber si un número es par.  \n",
    "El programa debe enviar un mensaje de despedida al finalizar la ejecución del programa."
   ]
  },
  {
   "cell_type": "code",
   "execution_count": null,
   "metadata": {},
   "outputs": [],
   "source": []
  },
  {
   "cell_type": "markdown",
   "metadata": {},
   "source": [
    "## Condicional if/else\n",
    "**Ejemplo ET0503**  \n",
    "Haga un programa que le solicite al usuario un número entero.  \n",
    "Su programa debe informar  si el número ingresado es negativo o positivo.  \n",
    "El programa debe enviar un mensaje de despedida al finalizar la ejecución del programa."
   ]
  },
  {
   "cell_type": "code",
   "execution_count": null,
   "metadata": {},
   "outputs": [],
   "source": [
    "# Autor: Carlos Juarez\n",
    "# Fecha: 20/03/25\n",
    "# Descripción: Ejemplo ET0503 numero negativo o positivo\n",
    "n = float(input('Ingrese un número: '))\n",
    "if n > 0:\n",
    "    print(f'{n} es positivo')\n",
    "else:\n",
    "    print(f'{n} es negativo')\n",
    "print('Adios, fin del programa')"
   ]
  },
  {
   "cell_type": "markdown",
   "metadata": {},
   "source": [
    "**Reto RT0503**  \n",
    "Haga un programa que indique si un número entero es par o impar."
   ]
  },
  {
   "cell_type": "code",
   "execution_count": null,
   "metadata": {},
   "outputs": [],
   "source": [
    "# Autor: \n",
    "# Fecha: \n",
    "# Descripción:"
   ]
  },
  {
   "cell_type": "markdown",
   "metadata": {},
   "source": [
    "## Condicional – if/elif/else \n",
    "**Ejemplo ET0504**  \n",
    "Haga un programa que díga si un número entero es positivo, negativo o cero."
   ]
  },
  {
   "cell_type": "code",
   "execution_count": null,
   "metadata": {},
   "outputs": [],
   "source": [
    "#Autor: Carlos Juarez\n",
    "#Fecha: 25/03/25\n",
    "#Descripción: Programa para definir si un número es positivo o negativo o cero\n",
    "\n",
    "n = float(input(\"Ingrese un número: \"))\n",
    "if n == 0:\n",
    "    print(f'{n} es elemento neutro')\n",
    "else:\n",
    "    if n > 0:\n",
    "        print(f'{n} es positivo')\n",
    "    else:\n",
    "        print(f'{n} es negativo')"
   ]
  },
  {
   "cell_type": "code",
   "execution_count": null,
   "metadata": {},
   "outputs": [],
   "source": [
    "#Autor: Carlos Juarez\n",
    "#Fecha: 25/03/25\n",
    "#Descripción: Programa para definir si un número es positivo o negativo o cero\n",
    "#Version 2\n",
    "n = float(input('Ingrese un número: '))\n",
    "\n",
    "if n == 0:\n",
    "    print(f'{n} es elemento neutro')\n",
    "elif n > 0: # se sustituye else + if por elif, elif es una manera de emplear if anidados\n",
    "    print(f'{n} es positivo')\n",
    "else:\n",
    "    print(f'{n} es negativo')"
   ]
  },
  {
   "cell_type": "code",
   "execution_count": null,
   "metadata": {},
   "outputs": [],
   "source": [
    "#Autor: Carlos Juarez\n",
    "#Fecha: 25/03/25\n",
    "#Descripción: Programa para definir si un número es positivo o negativo o cero\n",
    "# limitado a n<=100 y n>=-100\n",
    "#Version 3\n",
    "n = float(input('Ingrese un número: '))\n",
    "if n>100 or n<-100: # se puede utilizar varios elif, en esta condición, antes de validar si es positivo o negativo se revisa que el número esté dentro de los limites.\n",
    "    print('El número está fuera de los limites')\n",
    "elif n==0:\n",
    "    print(f'{n} es neutro')\n",
    "elif n>0:\n",
    "    print(f'{n} es positivo')\n",
    "else:\n",
    "    print(f'{n} es negativo')"
   ]
  },
  {
   "cell_type": "code",
   "execution_count": null,
   "metadata": {},
   "outputs": [],
   "source": [
    "#Autor: Carlos Juarez\n",
    "#Fecha: 25/03/25\n",
    "#Descripción: Programa para definir si un número es positivo o negativo o cero\n",
    "# limitado a n<=100 y n>=-100\n",
    "#Version 4\n",
    "n = float(input('Ingrese número: '))\n",
    "if n<=100 and n>=-100: # En esta condición \n",
    "    if n == 0:\n",
    "        print(f'{n} es neutro')\n",
    "    elif n > 0:\n",
    "        print(f'{n} es positivo')\n",
    "    else:\n",
    "        print(f'{n} es negativo')\n",
    "else:\n",
    "    print('Esta fuera del rango')"
   ]
  },
  {
   "cell_type": "markdown",
   "metadata": {},
   "source": [
    "**Reto RT0504**  \n",
    "Haga un programa para encontrar las raíces de una ecuación de primer o segundo orden. La solución debe considerar lo siguiente:  \n",
    "Entradas: a, b, c\n",
    "Salidas, raíces de la ecuación.\n",
    "Proceso:\n",
    "Debe considerar el caso general de una cuadrática, recuerde que las raíces se calculan de la siguiente manera:  \n",
    "$$ x_1 = \\frac{-b+\\sqrt{b^2-4ac}}{2a}$$  \n",
    "$$x_2 = \\frac{-b-\\sqrt{b^2-4ac}}{2a} $$\n",
    "\n",
    "Si $𝑏^2−4𝑎𝑐<0$ debe enviar un mensaje al usuario y decirle que no puede realizarse el cálculo debido a que hay raíces complejas conjugadas.  \n",
    "Si a = 0, debe enviar un mensaje notificando que la ecuación no es cuadrática, que es una ecuación lineal. Pero si informará el valor de la raíz, recuerde 𝑥=−𝑐/𝑏  \n"
   ]
  },
  {
   "cell_type": "code",
   "execution_count": null,
   "metadata": {},
   "outputs": [],
   "source": [
    "# Autor: \n",
    "# Fecha: \n",
    "# Descripción:"
   ]
  },
  {
   "cell_type": "markdown",
   "metadata": {},
   "source": [
    "**Ejemlo ET0505**  \n",
    "Cree un programa que solicite al usuario un número entero, luego la máquina debe generar números aleatorios entre 0 y 10. El programa debe enviarle al usuario un mensaje si adivinó el número. \n"
   ]
  },
  {
   "cell_type": "code",
   "execution_count": 83,
   "metadata": {},
   "outputs": [
    {
     "name": "stdin",
     "output_type": "stream",
     "text": [
      "Ingrese un número entero entre 0 y 10 6\n"
     ]
    },
    {
     "name": "stdout",
     "output_type": "stream",
     "text": [
      "6\n",
      "Felicidades ha adivinado\n"
     ]
    }
   ],
   "source": [
    "# Autor: Carlos Juárez\n",
    "# Fecha: 02/04/2025\n",
    "# Descripción: El usuario debe adivinar un número entre 0 y 10\n",
    "import random\n",
    "n = int(input('Ingrese un número entero entre 0 y 10'))\n",
    "# uso del módulo random\n",
    "numero_aleatorio = random.randint(0,10)\n",
    "print(numero_aleatorio) # solo para verificar que cambia.\n",
    "\n",
    "if n == numero_aleatorio:\n",
    "    print('Felicidades ha adivinado')\n",
    "else:\n",
    "    print('No adivinó, suerte en la próxima')\n"
   ]
  },
  {
   "attachments": {},
   "cell_type": "markdown",
   "metadata": {},
   "source": [
    "**Ejemplo ET0506**  \n",
    "Escriba  un programa que lea tres números enteros que representan los valores de día (dd) mes (mm)  y año (aa) de una fecha cualquiera. Luego, calcule y de cómo resultado de salida los valores de dd, mm y aa correspondientes al día siguiente."
   ]
  },
  {
   "cell_type": "code",
   "execution_count": 95,
   "metadata": {},
   "outputs": [
    {
     "name": "stdin",
     "output_type": "stream",
     "text": [
      "Ingrese el día:  28\n",
      "Ingrese el mes:  2\n",
      "Ingrese el año:  99\n"
     ]
    },
    {
     "name": "stdout",
     "output_type": "stream",
     "text": [
      "la fecha del día siguiente es: 1/3/99\n"
     ]
    }
   ],
   "source": [
    "# Autor: Carlos Juárez\n",
    "# Fecha: 02/04/2025\n",
    "# Descripción: Fecha del día siguiente\n",
    "# datos de entrada:\n",
    "dd = int(input('Ingrese el día: '))\n",
    "mm = int(input('Ingrese el mes: '))\n",
    "aa = int(input('Ingrese el año: '))\n",
    "\n",
    "if mm == 12 and dd == 31:\n",
    "    dd = 1\n",
    "    mm = 1\n",
    "    aa = aa + 1\n",
    "elif dd == 31 and (mm==1 or mm == 3 or mm == 5 or mm == 7 or mm == 8 or mm == 10):\n",
    "    dd = 1\n",
    "    mm = mm + 1\n",
    "elif dd == 30 and (mm == 4 or mm == 6 or mm == 9 or mm == 11):\n",
    "    dd = 1\n",
    "    mm = mm + 1\n",
    "elif dd == 28 and mm == 2:\n",
    "    dd = 1\n",
    "    mm = mm + 1\n",
    "else:\n",
    "    dd = dd + 1\n",
    "print(f'la fecha del día siguiente es: {dd}/{mm}/{aa}')"
   ]
  },
  {
   "cell_type": "markdown",
   "metadata": {},
   "source": [
    "## match-case\n",
    "La estructura match-case, se emplea en casos en que se desea realizar coincidencia de patrones. Esta estructura se introduce en Python 3.10 para tener una estrucutra similar a switch-case de otros lenguajes.  \n",
    "**match** afirmación:  \n",
    "&emsp;**case** patron1:  \n",
    "&emsp;&emsp;acciones cuando se cumple que la afirmacion == patron1  \n",
    "&emsp;**case** patron2:  \n",
    "&emsp;&emsp;acciones cuando se cumple que la afirmacion == patron2  \n",
    "&emsp;**case** patron3:  \n",
    "&emsp;&emsp;acciones cuando se cumple que la afirmacion == patron3  \n",
    "&emsp;**case _:**  \n",
    "&emsp;&emsp;acciones cuando no se cumple ningún patrón.  "
   ]
  },
  {
   "attachments": {},
   "cell_type": "markdown",
   "metadata": {},
   "source": [
    "**ET0507**  \n",
    "Escriba un programa que para un valor entero en el rango de 1 a 7, indique a qué día de la semana corresponde (1, lunes; 2, martes, …). Si se ingresa un entero fuera de este rango, indicar que no corresponde)."
   ]
  },
  {
   "cell_type": "code",
   "execution_count": null,
   "metadata": {},
   "outputs": [],
   "source": [
    "# Autor: Carlos Juárez\n",
    "# Fecha: 02/04/2025\n",
    "# Descripción: Día de la semana\n",
    "# datos de entrada:\n",
    "dd = int(input('Ingrese número entero entre 1 y 7: '))\n",
    "match dd:\n",
    "    case 1:\n",
    "        print('Lunes')\n",
    "    case 2:\n",
    "        print('Martes')\n",
    "        case 3:\n",
    "        print('Miercoles')\n",
    "        case 4:\n",
    "        print('Jueves')\n",
    "        case 5:\n",
    "        print('Viernes')\n",
    "        case 6:\n",
    "        print('Sábado')\n",
    "        case 7:\n",
    "        print('Domingo')\n",
    "    case _:\n",
    "        print('Dato invalido')\n",
    "    "
   ]
  },
  {
   "cell_type": "markdown",
   "metadata": {},
   "source": [
    "**ET0508**\n",
    "Haga un programa para jugar piedra papel y tijera"
   ]
  },
  {
   "cell_type": "code",
   "execution_count": 18,
   "metadata": {},
   "outputs": [
    {
     "name": "stdout",
     "output_type": "stream",
     "text": [
      "Juego piedra, papel y tijera, opciones: \n",
      "\t1. Piedra\n",
      "\t2. Papel\n",
      "\t3. Tijera\n"
     ]
    },
    {
     "name": "stdin",
     "output_type": "stream",
     "text": [
      "Ingrese una opción:  6\n"
     ]
    },
    {
     "name": "stdout",
     "output_type": "stream",
     "text": [
      "Ganó\n",
      "Usted eligió 6 y Computadora 1\n"
     ]
    }
   ],
   "source": [
    "#Autor: Carlos Juárez\n",
    "#Fecha: 8/4/2025\n",
    "#Descripción: juego de piedra papel y tijera\n",
    "import random\n",
    "print('Juego piedra, papel y tijera, opciones: \\n\\t1. Piedra\\n\\t2. Papel\\n\\t3. Tijera')\n",
    "opc = int(input('Ingrese una opción: '))\n",
    "# Generando opciones de la pc\n",
    "comp = random.randint(1,3)\n",
    "if opc == comp:\n",
    "    print('Empató')\n",
    "elif opc == 1 and comp == 2:\n",
    "    print('Perdió')\n",
    "elif opc == 1 and comp == 3:\n",
    "    print('Ganó')\n",
    "elif opc == 2 and comp == 1:\n",
    "    print('Ganó')\n",
    "elif opc == 2 and comp == 3:\n",
    "    print('Perdió')\n",
    "elif opc == 3 and comp == 1:\n",
    "    print('Perdió')\n",
    "else:\n",
    "    print('Ganó')\n",
    "print(f'Usted eligió {opc} y Computadora {comp}')  \n",
    "\n",
    "\n",
    "\n"
   ]
  },
  {
   "cell_type": "code",
   "execution_count": 24,
   "metadata": {},
   "outputs": [
    {
     "name": "stdout",
     "output_type": "stream",
     "text": [
      "Juego piedra, papel y tijera, opciones: \n",
      "\t1. Piedra\n",
      "\t2. Papel\n",
      "\t3. Tijera\n"
     ]
    },
    {
     "name": "stdin",
     "output_type": "stream",
     "text": [
      "Ingrese una opción:  1\n"
     ]
    },
    {
     "name": "stdout",
     "output_type": "stream",
     "text": [
      "Perdió\n",
      "Usted eligió 1 y Computadora 2\n"
     ]
    }
   ],
   "source": [
    "#Autor: Carlos Juárez\n",
    "#Fecha: 8/4/2025\n",
    "#Descripción: juego de piedra papel y tijera versión 2\n",
    "import random\n",
    "print('Juego piedra, papel y tijera, opciones: \\n\\t1. Piedra\\n\\t2. Papel\\n\\t3. Tijera')\n",
    "opc = int(input('Ingrese una opción: '))\n",
    "# Generando opciones de la pc\n",
    "comp = random.randint(1,3)\n",
    "if opc == comp:\n",
    "    print('Empató')\n",
    "elif (opc == 1 and comp == 3) or (opc == 2 and comp == 1) or (opc == 3 and comp == 2):\n",
    "    print('Ganó')\n",
    "else:\n",
    "    print('Perdió')\n",
    "print(f'Usted eligió {opc} y Computadora {comp}')  "
   ]
  },
  {
   "cell_type": "code",
   "execution_count": 26,
   "metadata": {},
   "outputs": [
    {
     "name": "stdout",
     "output_type": "stream",
     "text": [
      "Juego piedra, papel y tijera, opciones: \n",
      "\t1. Piedra\n",
      "\t2. Papel\n",
      "\t3. Tijera\n"
     ]
    },
    {
     "name": "stdin",
     "output_type": "stream",
     "text": [
      "Ingrese una opción:  1\n"
     ]
    },
    {
     "name": "stdout",
     "output_type": "stream",
     "text": [
      "Empató\n"
     ]
    }
   ],
   "source": [
    "#Autor: Carlos Juárez\n",
    "#Fecha: 8/4/2025\n",
    "#Descripción: juego de piedra papel y tijera versión 2\n",
    "import random\n",
    "print('Juego piedra, papel y tijera, opciones: \\n\\t1. Piedra\\n\\t2. Papel\\n\\t3. Tijera')\n",
    "opc = int(input('Ingrese una opción: '))\n",
    "# Generando opciones de la pc\n",
    "comp = random.randint(1,3)\n",
    "\n",
    "match opc:\n",
    "    case 1:\n",
    "       if comp == 1:\n",
    "           print('Empató')\n",
    "       elif comp == 2:\n",
    "           print('Perdió')\n",
    "       else:\n",
    "           print('Ganó')\n",
    "    case 2:\n",
    "       if comp == 1:\n",
    "           print('Ganó')\n",
    "       elif comp == 2:\n",
    "           print('Empaté')\n",
    "       else:\n",
    "           print('Perdiò') \n",
    "    case 3:\n",
    "       if comp == 1:\n",
    "           print('Perdió')\n",
    "       elif comp == 2:\n",
    "           print('Ganó')\n",
    "       else:\n",
    "           print('Empató')  \n",
    "    case _:\n",
    "        print('Se eligió un opción incorrecta')\n",
    "v"
   ]
  },
  {
   "cell_type": "code",
   "execution_count": null,
   "metadata": {},
   "outputs": [],
   "source": []
  }
 ],
 "metadata": {
  "kernelspec": {
   "display_name": "Python [conda env:base] *",
   "language": "python",
   "name": "conda-base-py"
  },
  "language_info": {
   "codemirror_mode": {
    "name": "ipython",
    "version": 3
   },
   "file_extension": ".py",
   "mimetype": "text/x-python",
   "name": "python",
   "nbconvert_exporter": "python",
   "pygments_lexer": "ipython3",
   "version": "3.12.7"
  }
 },
 "nbformat": 4,
 "nbformat_minor": 4
}
