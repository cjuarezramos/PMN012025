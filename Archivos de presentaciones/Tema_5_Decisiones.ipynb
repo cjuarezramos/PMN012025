{
 "cells": [
  {
   "cell_type": "markdown",
   "metadata": {},
   "source": [
    "# Programación estructurada\n",
    "Se basa en dos partes:\n",
    "1. Estructuras de control de flujo   \n",
    "    a. Secuenciales  \n",
    "    b. Decisiones  \n",
    "    c. Iteraciones  \n",
    "2. Modularidad\n"
   ]
  },
  {
   "cell_type": "markdown",
   "metadata": {
    "vscode": {
     "languageId": "plaintext"
    }
   },
   "source": [
    "# Secuencias\n",
    "**Ejemplo ET0501**  \n",
    "Haga un programa que solicite al usuario dos números enteros y arroje como resultado el cociente y residuo de la operación división.\n"
   ]
  },
  {
   "cell_type": "code",
   "execution_count": null,
   "metadata": {},
   "outputs": [],
   "source": [
    "# Autor: Carlos Juarez\n",
    "# Fecha: 20/03/25\n",
    "# Descripción: Ejemplo de clases ET0501 pide dos numeros y \n",
    "# da como resultado cociente y residuo\n",
    "a = int(input('Ingrese un número entero: ')) # input para solicitar algo al usuario\n",
    "b = int(input('Ingrese otro número entero: ')) # int para convertir a entero\n",
    "# Calcular cociente\n",
    "cociente = a//b # // calcula el entero de la division o cociente\n",
    "residuo = a % b # % calcula el módulo o residuo de la división\n",
    "# Imprimir resultados\n",
    "print(f\"Cociente de {a}/{b} es {cociente}\")\n",
    "print(f\"Residuo de {a}/{b} es {residuo}\")"
   ]
  },
  {
   "cell_type": "markdown",
   "metadata": {},
   "source": [
    "**Reto RT0501**  \n",
    "Haga un programa para encontrar el cuadrado y la raíz de un número ingresado por el usuario."
   ]
  },
  {
   "cell_type": "code",
   "execution_count": null,
   "metadata": {},
   "outputs": [],
   "source": [
    "# Autor: Carlos Juárez\n",
    "# Fecha: 20/03/2025\n",
    "# Descripción:"
   ]
  },
  {
   "cell_type": "markdown",
   "metadata": {},
   "source": [
    "# Decisiones\n",
    "## Condicional if\n",
    "**Ejemplo ET0502**  \n",
    "Haga un programa que le solicite al usuario un número entero.  \n",
    "Su programa debe informar que efectivamente el número ingresado en negativo.  \n",
    "Además, enviar un mensaje de despedida al finalizar la ejecución del programa."
   ]
  },
  {
   "cell_type": "code",
   "execution_count": null,
   "metadata": {},
   "outputs": [],
   "source": [
    "# Autor: \n",
    "# Fecha: \n",
    "# Descripción:"
   ]
  },
  {
   "cell_type": "markdown",
   "metadata": {},
   "source": [
    "**Reto ET0502**  \n",
    "Diseñe un algoritmo y codifíquelo en Python para saber si un número es par.  \n",
    "El programa debe enviar un mensaje de despedida al finalizar la ejecución del programa."
   ]
  },
  {
   "cell_type": "code",
   "execution_count": null,
   "metadata": {},
   "outputs": [],
   "source": [
    "# Autor: \n",
    "# Fecha: \n",
    "# Descripción:"
   ]
  },
  {
   "cell_type": "markdown",
   "metadata": {},
   "source": [
    "## Condicional if/else\n",
    "**Ejemplo ET0503**  \n",
    "Haga un programa que le solicite al usuario un número entero.  \n",
    "Su programa debe informar  si el número ingresado es negativo o positivo.  \n",
    "El programa debe enviar un mensaje de despedida al finalizar la ejecución del programa."
   ]
  },
  {
   "cell_type": "code",
   "execution_count": null,
   "metadata": {},
   "outputs": [],
   "source": [
    "# Autor: \n",
    "# Fecha: \n",
    "# Descripción:"
   ]
  },
  {
   "cell_type": "markdown",
   "metadata": {},
   "source": [
    "**Reto RT0503**  \n",
    "Haga un programa que indique si un número entero es par o impar."
   ]
  },
  {
   "cell_type": "code",
   "execution_count": null,
   "metadata": {},
   "outputs": [],
   "source": [
    "# Autor: \n",
    "# Fecha: \n",
    "# Descripción:"
   ]
  },
  {
   "cell_type": "markdown",
   "metadata": {},
   "source": [
    "## Condicional – if/elif/else \n",
    "**Ejemplo ET0504**  \n",
    "Haga un programa que díga si un número entero es positivo, negativo o cero."
   ]
  },
  {
   "cell_type": "code",
   "execution_count": null,
   "metadata": {},
   "outputs": [],
   "source": [
    "# Autor: \n",
    "# Fecha: \n",
    "# Descripción:"
   ]
  },
  {
   "cell_type": "markdown",
   "metadata": {},
   "source": [
    "**Reto RT0504**  \n",
    "Haga un programa para encontrar las raíces de una ecuación de primer o segundo orden. La solución debe considerar lo siguiente:  \n",
    "Entradas: a, b, c\n",
    "Salidas, raíces de la ecuación.\n",
    "Proceso:\n",
    "Debe considerar el caso general de una cuadrática, recuerde que las raíces se calculan de la siguiente manera:  \n",
    "$$ x_1 = \\frac{-b+\\sqrt{b^2-4ac}}{2a}$$  \n",
    "$$x_2 = \\frac{-b-\\sqrt{b^2-4ac}}{2a} $$\n",
    "\n",
    "Si $𝑏^2−4𝑎𝑐<0$ debe enviar un mensaje al usuario y decirle que no puede realizarse el cálculo debido a que hay raíces complejas conjugadas.  \n",
    "Si a = 0, debe enviar un mensaje notificando que la ecuación no es cuadrática, que es una ecuación lineal. Pero si informará el valor de la raíz, recuerde 𝑥=−𝑐/𝑏  \n"
   ]
  },
  {
   "cell_type": "code",
   "execution_count": null,
   "metadata": {},
   "outputs": [],
   "source": [
    "# Autor: \n",
    "# Fecha: \n",
    "# Descripción:"
   ]
  }
 ],
 "metadata": {
  "kernelspec": {
   "display_name": "Python [conda env:base] *",
   "language": "python",
   "name": "conda-base-py"
  },
  "language_info": {
   "codemirror_mode": {
    "name": "ipython",
    "version": 3
   },
   "file_extension": ".py",
   "mimetype": "text/x-python",
   "name": "python",
   "nbconvert_exporter": "python",
   "pygments_lexer": "ipython3",
   "version": "3.12.7"
  }
 },
 "nbformat": 4,
 "nbformat_minor": 4
}
