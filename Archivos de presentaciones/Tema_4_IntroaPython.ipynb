{
 "cells": [
  {
   "cell_type": "markdown",
   "metadata": {},
   "source": [
    "# Entorno Jupyter\n",
    "Es un entorno de desarrollo interactivo y basado en la web, ideal para trabajar con **documentos** y **código.**  \n",
    "\n"
   ]
  },
  {
   "cell_type": "code",
   "execution_count": null,
   "metadata": {},
   "outputs": [],
   "source": [
    "2*2"
   ]
  },
  {
   "cell_type": "code",
   "execution_count": null,
   "metadata": {},
   "outputs": [],
   "source": [
    "5*6\n",
    "9+5"
   ]
  },
  {
   "cell_type": "markdown",
   "metadata": {},
   "source": [
    "# Variables  \n",
    "Una variable en Python (o cualquier lenguaje de programación) es utilizado para almacenar información que puede ser referenciada más adelante.  \n",
    "Una variable puede almacenar \"cualquier tipo de dato\" como resultados de operaciones aritméticas, entre otro tipo de información.  \n",
    "\n",
    "## Instrucción de asignación\n",
    "nombre_variable **=** Informacion_a_almacenar  \n",
    "\n",
    "La manera de almacernar información en nuestra PC es a través de la instrucción **=**\n",
    "\n",
    "Ejemplo:  \n",
    "dato = 5.5  \n",
    "mensaje = \"Buenos días\"\n",
    "\n",
    "No escatime en el número de caracteres de los nombres de las variables. Es mejor tener nombres limpios y legibles como shopping_cart_total en lugar de una abreviatura como sct.   \n",
    "Un buen editor de código completa automáticamente cosas como los nombres de las variables, por lo que no tienes que escribirlos por completo si eso es lo que te preocupa."
   ]
  },
  {
   "cell_type": "code",
   "execution_count": null,
   "metadata": {},
   "outputs": [],
   "source": [
    "# Declarando una variable en Python\n",
    "x = 5"
   ]
  },
  {
   "cell_type": "code",
   "execution_count": null,
   "metadata": {},
   "outputs": [],
   "source": [
    "# Empleando la variable declarada\n",
    "x + 8"
   ]
  },
  {
   "cell_type": "code",
   "execution_count": null,
   "metadata": {},
   "outputs": [],
   "source": [
    "# empleando la variable declarada\n",
    "x * x"
   ]
  },
  {
   "cell_type": "markdown",
   "metadata": {},
   "source": [
    "## Nombres de variables válidos en python\n",
    "Caractéres válidos en nombres de variables:\n",
    "1. Letras minúsculas y mayúsculas: a-z y A-Z\n",
    "2. Números: 0 - 9\n",
    "3. Guión bajo: _\n",
    "\n",
    "Reglas básicas:\n",
    "1. Los nombres de las variables deben iniciar con letras o guion bajo, no deben iniciar con números.\n",
    "2. Los nombres de las variables distinguen entre mayúsculas y minúsculas."
   ]
  },
  {
   "cell_type": "code",
   "execution_count": null,
   "metadata": {},
   "outputs": [],
   "source": [
    "velocidad_1 = 110"
   ]
  },
  {
   "cell_type": "code",
   "execution_count": null,
   "metadata": {},
   "outputs": [],
   "source": [
    "_anotacion = 5"
   ]
  },
  {
   "cell_type": "code",
   "execution_count": null,
   "metadata": {},
   "outputs": [],
   "source": [
    "1tomate = 4"
   ]
  },
  {
   "cell_type": "code",
   "execution_count": null,
   "metadata": {},
   "outputs": [],
   "source": [
    "numero-1 = 3"
   ]
  },
  {
   "cell_type": "code",
   "execution_count": null,
   "metadata": {},
   "outputs": [],
   "source": [
    "nota 1 = 5"
   ]
  },
  {
   "cell_type": "markdown",
   "metadata": {},
   "source": [
    "## Buena práctica \n",
    "Una buena práctica en Python es que a la hora de emplear nombres de variables compuestos por varias palabras, estas se dividan por guión bajo, así:  \n",
    "nota_evaluacion_1 = 5"
   ]
  },
  {
   "cell_type": "markdown",
   "metadata": {},
   "source": [
    "# Impresión en pantalla\n",
    "**Instrucción print**  \n",
    "La instrucción **print** en Python se utiliza para imprimir en la consola.\n",
    "\n",
    "*SINTAXIS*  \n",
    "<span style=\"color:blue\">print(</span>Informaciónaimprimir<span style=\"color:blue\">)</span>   \n",
    "**print( )** toma \"cualquier cosa\" que se ponga entre paréntesis y lo imprime en pantalla.  \n",
    "\n",
    "  \n",
    "  \n",
    " "
   ]
  },
  {
   "cell_type": "code",
   "execution_count": null,
   "metadata": {},
   "outputs": [],
   "source": [
    "print('Hola mundo')\n",
    "print(\"Bienvenidos a Programación y Métodos Numéricos\")\n",
    "print(2)\n",
    "print(2+2)"
   ]
  },
  {
   "cell_type": "markdown",
   "metadata": {},
   "source": [
    "Impresiones de información contenida en variables  \n",
    "print(**Variable**)  \n",
    "print(f\"texto {**variable**})"
   ]
  },
  {
   "cell_type": "code",
   "execution_count": 56,
   "metadata": {},
   "outputs": [
    {
     "name": "stdout",
     "output_type": "stream",
     "text": [
      "tu nota es 5.5\n"
     ]
    }
   ],
   "source": [
    "a = 5.5\n",
    "print(f\"tu nota es {a}\")"
   ]
  },
  {
   "cell_type": "markdown",
   "metadata": {},
   "source": [
    "# Cadena de Caracteres\n",
    "En Python, los datos tipo string (o cadenas) son secuencias de caracteres que representan texto.  \n",
    "Se definen utilizando comillas simples (') o dobles (\"). \n"
   ]
  },
  {
   "cell_type": "code",
   "execution_count": 3,
   "metadata": {},
   "outputs": [],
   "source": [
    "a = 'Programación y '\n",
    "b = \"Métodos Numéricos\""
   ]
  },
  {
   "cell_type": "code",
   "execution_count": 5,
   "metadata": {},
   "outputs": [],
   "source": [
    "materia = a + b"
   ]
  },
  {
   "cell_type": "markdown",
   "metadata": {},
   "source": [
    "En Python, los datos del tipo string (cadenas de texto) pertenecen a una clase llamada str.   \n",
    "Esta clase encapsula tanto los datos (el texto en sí) como los métodos específicos que permiten operar con ellos.   \n",
    "Por ejemplo, puedes realizar operaciones como cambiar el texto a mayúsculas, dividirlo en partes, buscar caracteres, entre otras, gracias a los métodos que proporciona la clase str.\n",
    "[Aquí puedes revisar otros métodos para datos tipo string](https://docs.python.org/3/library/stdtypes.html#string-methods)"
   ]
  },
  {
   "cell_type": "code",
   "execution_count": 8,
   "metadata": {},
   "outputs": [
    {
     "data": {
      "text/plain": [
       "'Programación e Métodos Numéricos'"
      ]
     },
     "execution_count": 8,
     "metadata": {},
     "output_type": "execute_result"
    }
   ],
   "source": [
    "materia.upper()\n",
    "materia.split()\n",
    "materia.replace('y', 'e')\n"
   ]
  },
  {
   "cell_type": "markdown",
   "metadata": {},
   "source": [
    "# Datos numéricos\n",
    "## Clase int\n",
    "Descripción: La clase int representa números enteros, es decir, sin decimales.\n",
    "\n",
    "Propiedades: No tienen límites de precisión más allá de la memoria disponible en tu computadora (pueden manejar números muy grandes).\n",
    "\n",
    "Métodos comunes:\n",
    "bit_length(): Devuelve el número de bits necesarios para representar el número en binario.\n",
    "\n"
   ]
  },
  {
   "cell_type": "code",
   "execution_count": 21,
   "metadata": {},
   "outputs": [
    {
     "data": {
      "text/plain": [
       "int"
      ]
     },
     "execution_count": 21,
     "metadata": {},
     "output_type": "execute_result"
    }
   ],
   "source": [
    "a = 90\n",
    "type(a)\n"
   ]
  },
  {
   "cell_type": "code",
   "execution_count": 32,
   "metadata": {},
   "outputs": [
    {
     "data": {
      "text/plain": [
       "4"
      ]
     },
     "execution_count": 32,
     "metadata": {},
     "output_type": "execute_result"
    }
   ],
   "source": [
    "a.bit_count()\n"
   ]
  },
  {
   "cell_type": "markdown",
   "metadata": {},
   "source": [
    "## Clase float\n",
    "Descripción: La clase float se utiliza para representar números con decimales, también conocidos como números de punto flotante.\n",
    "\n",
    "Propiedades: Tiene una precisión limitada según la arquitectura del sistema (habitualmente precisión de 64 bits).\n",
    "\n",
    "Métodos comunes:\n",
    "\n",
    "is_integer(): Verifica si el número tiene parte decimal o es equivalente a un entero.\n",
    "\n",
    "hex(): Devuelve la representación hexadecimal del número en punto flotante.\n"
   ]
  },
  {
   "cell_type": "code",
   "execution_count": null,
   "metadata": {},
   "outputs": [],
   "source": []
  },
  {
   "cell_type": "markdown",
   "metadata": {},
   "source": [
    "## Clase Complejos\n",
    "Características de la clase complex\n",
    "Creación de números complejos: Se pueden crear directamente usando el literal j o con el constructor complex().\n",
    "\n",
    "Atributos principales:\n",
    "\n",
    "real: Devuelve la parte real del número complejo.\n",
    "\n",
    "imag: Devuelve la parte imaginaria del número complejo.\n",
    "\n",
    "Métodos comunes:\n",
    "\n",
    "Puedes operar con números complejos usando operadores matemáticos como +, -, *, y /."
   ]
  },
  {
   "cell_type": "code",
   "execution_count": 35,
   "metadata": {},
   "outputs": [
    {
     "name": "stdout",
     "output_type": "stream",
     "text": [
      "(4+5j)\n",
      "(6+8j)\n"
     ]
    }
   ],
   "source": [
    "a = 4+5j\n",
    "print(a)\n",
    "b = complex(6, 8)\n",
    "print(b)"
   ]
  },
  {
   "cell_type": "markdown",
   "metadata": {},
   "source": [
    "[Métodos de datos tipo numéricos](https://docs.python.org/3/library/stdtypes.html#numeric-types-int-float-complex)"
   ]
  },
  {
   "cell_type": "markdown",
   "metadata": {},
   "source": [
    "# Operadores Aritméticos\n",
    "    Addición        +\n",
    "    Subtracción     -\n",
    "    Multiplicación  *\n",
    "    División        /\n",
    "    Módulo          %\n",
    "    División entera //\n",
    "    Exponente       **"
   ]
  },
  {
   "cell_type": "code",
   "execution_count": 36,
   "metadata": {},
   "outputs": [
    {
     "data": {
      "text/plain": [
       "2"
      ]
     },
     "execution_count": 36,
     "metadata": {},
     "output_type": "execute_result"
    }
   ],
   "source": [
    "5//2"
   ]
  },
  {
   "cell_type": "markdown",
   "metadata": {},
   "source": [
    "## Precedencia\n",
    "1. Exponente\n",
    "2. División y Multiplicación\n",
    "3. Suma y Resta"
   ]
  },
  {
   "cell_type": "code",
   "execution_count": 38,
   "metadata": {},
   "outputs": [
    {
     "data": {
      "text/plain": [
       "6"
      ]
     },
     "execution_count": 38,
     "metadata": {},
     "output_type": "execute_result"
    }
   ],
   "source": [
    "2**2*3-3*2"
   ]
  },
  {
   "cell_type": "markdown",
   "metadata": {},
   "source": [
    "$$\\frac{2+4}{1+10/2}\\$$\n"
   ]
  },
  {
   "cell_type": "code",
   "execution_count": null,
   "metadata": {},
   "outputs": [],
   "source": []
  },
  {
   "cell_type": "markdown",
   "metadata": {},
   "source": [
    "# Operaciones Relacionales\n",
    "    Mayor que           >\n",
    "    Menor que           <\n",
    "    Mayor o igual que   >=\n",
    "    Menor o igual que   <=\n",
    "    Igual a             ==\n",
    "    Distinto a          !="
   ]
  },
  {
   "cell_type": "code",
   "execution_count": 45,
   "metadata": {},
   "outputs": [
    {
     "data": {
      "text/plain": [
       "False"
      ]
     },
     "execution_count": 45,
     "metadata": {},
     "output_type": "execute_result"
    }
   ],
   "source": [
    "4 <= 3"
   ]
  },
  {
   "cell_type": "markdown",
   "metadata": {},
   "source": [
    "# Datos Tipo Booleanos\n",
    "En Python, los datos tipo booleanos pertenecen a la clase bool y representan valores lógicos que pueden ser True o False. Estos valores son fundamentales en programación, especialmente en estructuras de control y evaluaciones lógicas.\n",
    "\n",
    "Características principales de los booleanos:\n",
    "Valores posibles:\n",
    "\n",
    "True: Representa el valor verdadero.\n",
    "\n",
    "False: Representa el valor falso.\n",
    "\n",
    "Relación con enteros:\n",
    "\n",
    "True equivale a 1(otro número entero) y False equivale a 0 en operaciones aritméticas.\n"
   ]
  },
  {
   "cell_type": "code",
   "execution_count": 50,
   "metadata": {},
   "outputs": [
    {
     "data": {
      "text/plain": [
       "1"
      ]
     },
     "execution_count": 50,
     "metadata": {},
     "output_type": "execute_result"
    }
   ],
   "source": [
    "-5 & True"
   ]
  },
  {
   "cell_type": "markdown",
   "metadata": {},
   "source": [
    "# Operaciones Lógicas\n",
    "    Negación                    not\n",
    "    Conjunción (y)              and\n",
    "    Disyunción inclusiva (o)    or\n"
   ]
  },
  {
   "cell_type": "code",
   "execution_count": 53,
   "metadata": {},
   "outputs": [
    {
     "data": {
      "text/plain": [
       "False"
      ]
     },
     "execution_count": 53,
     "metadata": {},
     "output_type": "execute_result"
    }
   ],
   "source": [
    "not True"
   ]
  },
  {
   "cell_type": "markdown",
   "metadata": {},
   "source": [
    "# Precedencia de operadores\n",
    "1. Operadores Aritméticos\n",
    "2. Operaciones Relacionales\n",
    "3. Operadores Lógicos"
   ]
  },
  {
   "cell_type": "code",
   "execution_count": 54,
   "metadata": {},
   "outputs": [
    {
     "data": {
      "text/plain": [
       "False"
      ]
     },
     "execution_count": 54,
     "metadata": {},
     "output_type": "execute_result"
    }
   ],
   "source": [
    "5+6>7 and 8-3<5"
   ]
  },
  {
   "cell_type": "markdown",
   "metadata": {},
   "source": [
    "# Instrucción input\n",
    "La instrucción **input()** en Python se utiliza para recibir datos de entrada por parte del usuario. Es muy útil cuando deseas interactuar con el usuario en programas dinámicos.\n",
    "\n",
    "**Características Principales**\n",
    "1. Lectura de entrada como texto:    \n",
    "Por defecto, input() siempre retorna los datos como cadenas de texto (str)."
   ]
  },
  {
   "cell_type": "code",
   "execution_count": null,
   "metadata": {},
   "outputs": [],
   "source": []
  },
  {
   "cell_type": "markdown",
   "metadata": {},
   "source": [
    "2. Conversión de tipos de datos\n",
    "Si se necesita otro tipo de dato, se debe convertir manualmente."
   ]
  },
  {
   "cell_type": "code",
   "execution_count": null,
   "metadata": {},
   "outputs": [],
   "source": []
  },
  {
   "cell_type": "markdown",
   "metadata": {},
   "source": [
    "3. Personalización del mensaje\n",
    "Se Puede incluir un mensaje personalizado dentro de input() para guiar al usuario"
   ]
  }
 ],
 "metadata": {
  "kernelspec": {
   "display_name": "base",
   "language": "python",
   "name": "python3"
  },
  "language_info": {
   "codemirror_mode": {
    "name": "ipython",
    "version": 3
   },
   "file_extension": ".py",
   "mimetype": "text/x-python",
   "name": "python",
   "nbconvert_exporter": "python",
   "pygments_lexer": "ipython3",
   "version": "3.12.3"
  }
 },
 "nbformat": 4,
 "nbformat_minor": 2
}
