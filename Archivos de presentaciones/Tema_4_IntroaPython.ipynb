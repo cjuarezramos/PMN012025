{
 "cells": [
  {
   "cell_type": "markdown",
   "metadata": {},
   "source": [
    "# Impresión en pantalla y Cadenas de caracteres o strings  \n",
    "\n",
    "**Instrucción print**  \n",
    "La instrucción **print** en Python se utiliza para imprimir en la consola.\n",
    "\n",
    "*SINTAXIS*  \n",
    "<span style=\"color:blue\">print(</span>Informaciónaimprimir<span style=\"color:blue\">)</span>     \n",
    "  \n",
    "**Cadena de Caracteres**  \n",
    "En Python, los datos tipo string (o cadenas) son secuencias de caracteres que representan texto.  \n",
    "Se definen utilizando comillas simples (') o dobles (\"). \n",
    "  \n",
    "Por ejemplo:  \n",
    "print(\"hola mundo\")  \n",
    "print('Bienvenido a Programación y métodos numéricos')  "
   ]
  },
  {
   "cell_type": "code",
   "execution_count": null,
   "metadata": {
    "vscode": {
     "languageId": "plaintext"
    }
   },
   "outputs": [],
   "source": [
    "print('Hola mundo')\n",
    "print(\"Bienvenidos a Programación y Métodos Numéricos\")"
   ]
  },
  {
   "cell_type": "markdown",
   "metadata": {},
   "source": []
  }
 ],
 "metadata": {
  "language_info": {
   "name": "python"
  }
 },
 "nbformat": 4,
 "nbformat_minor": 2
}
