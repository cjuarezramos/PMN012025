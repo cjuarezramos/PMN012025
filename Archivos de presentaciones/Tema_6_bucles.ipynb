{
 "cells": [
  {
   "cell_type": "markdown",
   "id": "3d80d956",
   "metadata": {},
   "source": [
    "# Lazos o Bucles  \n",
    "Bucle o Lazo: Es un conjunto de instrucciones que se repiten hasta que se cumpla una condición establecida.  \n",
    "\n",
    "## For\n",
    "El for es un ciclo de conteo controlado y se ejecutara mientras la variable de conteo permanezca dentro del rango especificado.  \n",
    "\n",
    "**ET0601**\n",
    "Imprimir números del 1 al 10\n"
   ]
  },
  {
   "cell_type": "code",
   "execution_count": null,
   "id": "d00485f9",
   "metadata": {},
   "outputs": [],
   "source": []
  },
  {
   "cell_type": "markdown",
   "id": "f7dda1a5",
   "metadata": {},
   "source": [
    "**ET0602**  \n",
    "Haga un programa que solicite al usuario un número n y se impriman los todos los números menores de n en forma descendente"
   ]
  },
  {
   "cell_type": "code",
   "execution_count": null,
   "id": "a6dcbbe1",
   "metadata": {},
   "outputs": [],
   "source": [
    "n = int(input(\"Ingrese un número: \"))\n",
    "for i in range(n, 0, -1):\n",
    "    print(i)"
   ]
  },
  {
   "cell_type": "markdown",
   "id": "94184055",
   "metadata": {},
   "source": [
    "**ET0603**  \n",
    "Escriba un programa que le solicite al usuario un número entero, n, e imprima todos los valores pares menores a n\n"
   ]
  },
  {
   "cell_type": "code",
   "execution_count": 4,
   "id": "8d933aea",
   "metadata": {},
   "outputs": [
    {
     "name": "stdout",
     "output_type": "stream",
     "text": [
      "2\n",
      "4\n",
      "6\n",
      "8\n"
     ]
    }
   ],
   "source": [
    "n = int(input(\"Ingrese un número: \"))\n",
    "for i in range(2,n,2):\n",
    "    print(i)\n"
   ]
  },
  {
   "cell_type": "markdown",
   "id": "1d4e75a6",
   "metadata": {},
   "source": [
    "## Range  \n",
    "Representa una secuencia de números y se utiliza comúnmente en bucles"
   ]
  },
  {
   "cell_type": "code",
   "execution_count": 8,
   "id": "35c1cbf1",
   "metadata": {},
   "outputs": [
    {
     "name": "stdout",
     "output_type": "stream",
     "text": [
      "range(1, 10)\n",
      "<class 'range'>\n"
     ]
    }
   ],
   "source": [
    "mi_rango = range(1, 10)\n",
    "print(mi_rango)\n",
    "print(type(mi_rango))"
   ]
  },
  {
   "cell_type": "markdown",
   "id": "0b52c354",
   "metadata": {},
   "source": [
    "## Listas  \n",
    "Son estructuras de datos mutable y ordenadas.   \n",
    "Se puede añadir, eliminar o modificar elementos después de crearlas.   \n"
   ]
  },
  {
   "cell_type": "code",
   "execution_count": 11,
   "id": "7796afc4",
   "metadata": {},
   "outputs": [
    {
     "name": "stdout",
     "output_type": "stream",
     "text": [
      "[10, 9, 8.8, 6, 7.5, 10]\n",
      "['Juan', 'Pedro', 'Maria', 'Ana']\n",
      "[True, False, True, False]\n",
      "[1, 'Hola', 3.14, True]\n",
      "[]\n"
     ]
    }
   ],
   "source": [
    "# Creación de una lista de números\n",
    "notas = [10, 9, 8.8, 6, 7.5, 10]\n",
    "print(notas)\n",
    "# Lista de cadenas\n",
    "nombres = [\"Juan\", \"Pedro\", \"Maria\", \"Ana\"]\n",
    "print(nombres) \n",
    "# Lista de booleanos\n",
    "valores = [True, False, True, False]\n",
    "print(valores)\n",
    "# Lista mixta\n",
    "mixta = [1, \"Hola\", 3.14, True]\n",
    "print(mixta)\n",
    "# Lista vacía\n",
    "vacia = []\n",
    "print(vacia)\n"
   ]
  },
  {
   "cell_type": "code",
   "execution_count": 17,
   "id": "75225cd6",
   "metadata": {},
   "outputs": [
    {
     "name": "stdout",
     "output_type": "stream",
     "text": [
      "10\n",
      "9\n",
      "Carlos\n"
     ]
    }
   ],
   "source": [
    "# Obtener un elemento específico de la lista\n",
    "print(notas[0]) # Primer elemento\n",
    "print(notas[1]) # Segundo elemento\n",
    "# Obtener el último elemento de la lista\n",
    "print(nombres[-1]) # Último elemento"
   ]
  },
  {
   "cell_type": "code",
   "execution_count": 18,
   "id": "80c2f54f",
   "metadata": {},
   "outputs": [
    {
     "name": "stdout",
     "output_type": "stream",
     "text": [
      "[10, 'Pedro', 'Luis', 'Maria', 'Ana', 'Carlos']\n"
     ]
    }
   ],
   "source": [
    "# Cambiar un elemento de la lista\n",
    "nombres[0] = 10\n",
    "print(nombres)"
   ]
  },
  {
   "cell_type": "code",
   "execution_count": 19,
   "id": "37a0f830",
   "metadata": {},
   "outputs": [
    {
     "name": "stdout",
     "output_type": "stream",
     "text": [
      "6\n"
     ]
    }
   ],
   "source": [
    "# Mostrar la longitud de la lista\t\n",
    "print(len(nombres)) # Longitud de la lista nombres"
   ]
  },
  {
   "cell_type": "code",
   "execution_count": 20,
   "id": "30b84728",
   "metadata": {},
   "outputs": [
    {
     "name": "stdout",
     "output_type": "stream",
     "text": [
      "[10, 'Pedro', 'Luis', 'Maria', 'Ana', 'Carlos', 'Carlos']\n"
     ]
    }
   ],
   "source": [
    "# Métodos de la lista\n",
    "# Apend: Agregar un elemento al final de la lista\n",
    "nombres.append(\"Carlos\")   \n",
    "print(nombres) # [10, \"Pedro\", \"Maria\", \"Ana\", \"Carlos\"]"
   ]
  },
  {
   "cell_type": "code",
   "execution_count": 21,
   "id": "392e3af2",
   "metadata": {},
   "outputs": [
    {
     "name": "stdout",
     "output_type": "stream",
     "text": [
      "[10, 'Pedro', 'Luis', 'Luis', 'Maria', 'Ana', 'Carlos', 'Carlos']\n"
     ]
    }
   ],
   "source": [
    "# Insertar un elemento en una posición específica\n",
    "nombres.insert(2, \"Luis\")\n",
    "print(nombres) # [10, \"Pedro\", \"Luis\", \"Maria\", \"Ana\", \"Carlos\"]"
   ]
  },
  {
   "cell_type": "code",
   "execution_count": 22,
   "id": "eccf85a7",
   "metadata": {},
   "outputs": [
    {
     "name": "stdout",
     "output_type": "stream",
     "text": [
      "[10, 'Pedro', 'Luis', 'Maria', 'Ana', 'Carlos', 'Carlos']\n"
     ]
    }
   ],
   "source": [
    "# Eliminar un elemento específico de la lista\n",
    "nombres.remove(\"Luis\")\n",
    "print(nombres) # [10, \"Pedro\", \"Maria\", \"Ana\", \"Carlos\"]"
   ]
  },
  {
   "cell_type": "code",
   "execution_count": 23,
   "id": "8b4fa399",
   "metadata": {},
   "outputs": [
    {
     "name": "stdout",
     "output_type": "stream",
     "text": [
      "[10, 'Pedro', 'Luis', 'Maria', 'Ana', 'Carlos']\n"
     ]
    }
   ],
   "source": [
    "# Eliminar el último elemento de la lista\n",
    "nombres.pop()\n",
    "print(nombres) # [10, \"Pedro\", \"Maria\", \"Ana\"]"
   ]
  },
  {
   "cell_type": "code",
   "execution_count": 26,
   "id": "3e2d7cc2",
   "metadata": {},
   "outputs": [
    {
     "name": "stdout",
     "output_type": "stream",
     "text": [
      "[6, 7.5, 8.8, 9, 10, 10]\n"
     ]
    }
   ],
   "source": [
    "# Ordenar la lista\n",
    "notas.sort()\n",
    "print(notas) # [6, 7.5, 8.8, 9, 10, 10]"
   ]
  },
  {
   "cell_type": "code",
   "execution_count": null,
   "id": "70fbd7a6",
   "metadata": {},
   "outputs": [
    {
     "name": "stdout",
     "output_type": "stream",
     "text": [
      "[10, 10, 9, 8.8, 7.5, 6]\n"
     ]
    }
   ],
   "source": [
    "# Invertir la lista\n",
    "notas.reverse()\n",
    "print(notas) # [10, 10, 9, 8.8, 7.5, 6]"
   ]
  },
  {
   "cell_type": "code",
   "execution_count": 28,
   "id": "23ceb55c",
   "metadata": {},
   "outputs": [
    {
     "name": "stdout",
     "output_type": "stream",
     "text": [
      "[1, 2, 3, 4, 5, 6, 7, 8, 9, 10]\n"
     ]
    }
   ],
   "source": [
    "# Crear una lista de números del 1 al 10\n",
    "numeros = list(range(1, 11))    \n",
    "print(numeros) # [1, 2, 3, 4, 5, 6, 7, 8, 9, 10]\n"
   ]
  },
  {
   "cell_type": "code",
   "execution_count": 32,
   "id": "4fa5cde2",
   "metadata": {},
   "outputs": [
    {
     "name": "stdout",
     "output_type": "stream",
     "text": [
      "['Pedro', 'Luis', 'Maria']\n"
     ]
    }
   ],
   "source": [
    "# Seleccionar un rango de elementos de la lista\n",
    "print(nombres[1:4]) # [\"Pedro\", \"Maria\", \"Ana\"]"
   ]
  },
  {
   "cell_type": "code",
   "execution_count": 33,
   "id": "ba677b0f",
   "metadata": {},
   "outputs": [
    {
     "name": "stdout",
     "output_type": "stream",
     "text": [
      "[10, 'Luis', 'Ana']\n"
     ]
    }
   ],
   "source": [
    "\n",
    "# Seleccionar elementos con un paso específico\n",
    "print(nombres[::2]) # [\"Pedro\", \"Ana\"]"
   ]
  },
  {
   "cell_type": "code",
   "execution_count": null,
   "id": "d071aead",
   "metadata": {},
   "outputs": [
    {
     "name": "stdout",
     "output_type": "stream",
     "text": [
      "4 4\n",
      "4 99\n",
      "[1, 2, 3] [1, 2, 3]\n",
      "[99, 2, 3] [99, 2, 3]\n",
      "[99, 2, 3] [99, 2, 3]\n",
      "[99, 2, 3] [100, 2, 3]\n"
     ]
    }
   ],
   "source": [
    "# Copiar una lista\n",
    "# Revisemos primero el comportamiento de la asignación.\n",
    "# Asignación de variables\n",
    "a = 4\n",
    "b = a\n",
    "print(a,b) # 4\n",
    "b = 99\n",
    "print(a,b) # 4 99"
   ]
  },
  {
   "cell_type": "code",
   "execution_count": null,
   "id": "a7d6afb6",
   "metadata": {},
   "outputs": [],
   "source": [
    "# Asignación de listas\n",
    "lista1 = [1,2,3]\n",
    "lista2 = lista1\n",
    "print(lista1, lista2) # [1, 2, 3] [1, 2, 3]\n",
    "lista2[0] = 99\n",
    "print(lista1, lista2) # [99, 2, 3] [99, 2, 3]\n",
    "# Asignación en listas afecta a ambas listas, ya que apuntan al mismo objeto en memoria."
   ]
  },
  {
   "cell_type": "code",
   "execution_count": null,
   "id": "585564ce",
   "metadata": {},
   "outputs": [],
   "source": [
    "# Para copiar una lista, se puede usar el método copy()\n",
    "lista3 = lista1.copy()\n",
    "print(lista1, lista3) # [99, 2, 3] [99, 2, 3]\n",
    "lista3[0] = 100\n",
    "print(lista1, lista3) # [99, 2, 3] [100, 2, 3]"
   ]
  },
  {
   "cell_type": "code",
   "execution_count": null,
   "id": "4a8bffff",
   "metadata": {},
   "outputs": [],
   "source": [
    "# Veamos una lista con listas\n",
    "lista4 = [1,2,3,[4,5,6]]\n",
    "lista5 = lista4.copy()\n",
    "print(lista5) # [1, 2, 3, [4, 5, 6]]\n",
    "lista5[3][0] = 99\n",
    "print(lista4) # [1, 2, 3, [99, 5, 6]]\n",
    "# copy no copia listas anidadas, solo la lista de primer nivel.\n",
    "# Para copiar listas anidadas, se puede usar el módulo copy"
   ]
  },
  {
   "cell_type": "code",
   "execution_count": null,
   "id": "805dcf17",
   "metadata": {},
   "outputs": [],
   "source": [
    "# Deepcopy\n",
    "# Si la lista contiene listas, se puede usar deepcopy para copiarla completamente.\n",
    "import copy\n",
    "lista4 = [[1,2,3],[4,5,6]]\n",
    "print(lista4) # [[1, 2, 3], [4, 5, 6]]\n",
    "lista5 = copy.deepcopy(lista4)\n",
    "print(lista5) # [[1, 2, 3], [4, 5, 6]]"
   ]
  },
  {
   "cell_type": "markdown",
   "id": "5903d718",
   "metadata": {},
   "source": [
    "## Tuplas\n",
    "Son similares a las listas, pero son inmutables.   \n",
    "Esto significa que una vez creadas, no puedes cambiar su contenido.   "
   ]
  },
  {
   "cell_type": "code",
   "execution_count": null,
   "id": "b4f17679",
   "metadata": {},
   "outputs": [],
   "source": [
    "# Creación de una Tupla\n",
    "tupla1 = (1, 2, 3)\n"
   ]
  },
  {
   "cell_type": "code",
   "execution_count": null,
   "id": "633b405e",
   "metadata": {},
   "outputs": [],
   "source": [
    "# Tupla de un solo elemento\n",
    "a = 1\n",
    "b = (1,) # Necesario la coma para que sea una tupla\n",
    "print(type(a)) # <class 'int'>  \n",
    "print(type(b)) # <class 'tuple'>"
   ]
  },
  {
   "cell_type": "code",
   "execution_count": null,
   "id": "98220e10",
   "metadata": {},
   "outputs": [],
   "source": [
    "# Tupla vacía\n",
    "tupla_vacia = () # Tupla vacía\n",
    "print(tupla_vacia) # ()\n"
   ]
  },
  {
   "cell_type": "code",
   "execution_count": null,
   "id": "26c6547d",
   "metadata": {},
   "outputs": [],
   "source": [
    "# Acceder a los elementos de una tupla\n",
    "tupla1 = (1, 2, 3, 4, 5)\n",
    "print(tupla1[0]) # Primer elemento"
   ]
  },
  {
   "cell_type": "code",
   "execution_count": null,
   "id": "5cc74a29",
   "metadata": {},
   "outputs": [],
   "source": [
    "# Acceder al último elemento de la tupla\n",
    "print(tupla1[-1]) # Último elemento"
   ]
  },
  {
   "cell_type": "code",
   "execution_count": null,
   "id": "f54909c3",
   "metadata": {},
   "outputs": [],
   "source": [
    "# Tuplas son inmutables, no se pueden modificar\n",
    "tupla1[0] = 10 # TypeError: 'tuple' object does not support item assignment"
   ]
  },
  {
   "cell_type": "code",
   "execution_count": null,
   "id": "828daaf0",
   "metadata": {},
   "outputs": [],
   "source": [
    "# Acceder a un rango de elementos de la tupla\n",
    "print(tupla1[1:4]) # [2, 3, 4]"
   ]
  },
  {
   "cell_type": "markdown",
   "id": "547193c2",
   "metadata": {},
   "source": [
    "**ET0604**  \n",
    "Haga un programa que reciba una lista, la lista a recibir tiene nombre de evaluación y a continuación el porcentaje.  \n",
    "Luego El programa debe preguntarle al usuario la nota de cada evaluación e imprimir su promedio de la materia."
   ]
  },
  {
   "cell_type": "code",
   "execution_count": 38,
   "id": "ecebb1fb",
   "metadata": {},
   "outputs": [
    {
     "name": "stdout",
     "output_type": "stream",
     "text": [
      "Nombre de las evaluaciones:  ['o1', 'p2', 'p3']\n",
      "Porcentajes:  ['10', '30', '60']\n",
      "Porcentajes:  [10, 30, 60]\n"
     ]
    }
   ],
   "source": [
    "# Autor: Carlos Juárez\n",
    "# Fecha: 2023-10-05\n",
    "# Descripción: Ejemplo de listas y for\n",
    "Evaluaciones = input(\"Ingrese nombre de las evaluaciones y su porcentaje: \")\n",
    "Evaluaciones = Evaluaciones.split(\",\")\n",
    "# Separa la cadena en una lista de cadenas usando la coma como separador\n",
    "\n",
    "N_Evaluaciones = Evaluaciones[::2]\n",
    "Porcentajes = Evaluaciones[1::2]\n",
    "print(\"Nombre de las evaluaciones: \", N_Evaluaciones)\n",
    "print(\"Porcentajes: \", Porcentajes)\n",
    "# Convertir la lista de porcentajes a enteros\n",
    "Porcentajes = list(map(int, Porcentajes))\n",
    "print(\"Porcentajes: \", Porcentajes)\n",
    "# map aplica la función int a cada elemento de la lista de porcentajes\n",
    "Notas = []\n",
    "for i in N_Evaluaciones:\n",
    "    Notas.append(float(input(f\"Ingrese la nota de {i}: \")))\n"
   ]
  },
  {
   "cell_type": "code",
   "execution_count": null,
   "id": "0bfae7c6",
   "metadata": {},
   "outputs": [
    {
     "ename": "TypeError",
     "evalue": "float() argument must be a string or a real number, not 'list'",
     "output_type": "error",
     "traceback": [
      "\u001b[1;31m---------------------------------------------------------------------------\u001b[0m",
      "\u001b[1;31mTypeError\u001b[0m                                 Traceback (most recent call last)",
      "Cell \u001b[1;32mIn[36], line 1\u001b[0m\n\u001b[1;32m----> 1\u001b[0m \u001b[38;5;28;43mfloat\u001b[39;49m\u001b[43m(\u001b[49m\u001b[43mPorcentajes\u001b[49m\u001b[43m)\u001b[49m\n",
      "\u001b[1;31mTypeError\u001b[0m: float() argument must be a string or a real number, not 'list'"
     ]
    }
   ],
   "source": []
  },
  {
   "cell_type": "markdown",
   "id": "fe03bbaa",
   "metadata": {},
   "source": [
    "**ET0605**  \n",
    "Escriba un programa que le solicite a un usuario número entero n, y el programa diga si el número es primo.\n"
   ]
  },
  {
   "cell_type": "markdown",
   "id": "502274ed",
   "metadata": {},
   "source": [
    "**ET0606**  \n",
    "Escriba un programa que le solicite a un usuario número entero y calcule su factorial.\n"
   ]
  }
 ],
 "metadata": {
  "kernelspec": {
   "display_name": "base",
   "language": "python",
   "name": "python3"
  },
  "language_info": {
   "codemirror_mode": {
    "name": "ipython",
    "version": 3
   },
   "file_extension": ".py",
   "mimetype": "text/x-python",
   "name": "python",
   "nbconvert_exporter": "python",
   "pygments_lexer": "ipython3",
   "version": "3.12.3"
  }
 },
 "nbformat": 4,
 "nbformat_minor": 5
}
