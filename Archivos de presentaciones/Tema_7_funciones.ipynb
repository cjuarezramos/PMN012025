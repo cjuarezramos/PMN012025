{
 "cells": [
  {
   "cell_type": "markdown",
   "id": "10e65c3d-438b-47bb-a63e-8722c51e77eb",
   "metadata": {},
   "source": [
    "# Funciones  \n",
    "## Programacion Modular  \n",
    "Programaciòn por partes."
   ]
  },
  {
   "cell_type": "markdown",
   "id": "26373ebf-6aa1-40a9-8d09-dd55ae9dbfe5",
   "metadata": {},
   "source": [
    "**ET0701**  \n",
    "Pedir nùmeros, promedio y desviación estandar."
   ]
  },
  {
   "cell_type": "code",
   "execution_count": 29,
   "id": "82f6f92c-55d4-4375-828e-b25563375e43",
   "metadata": {},
   "outputs": [
    {
     "name": "stdin",
     "output_type": "stream",
     "text": [
      "Ingrese número positivo (negativo para salir):  1\n",
      "Ingrese número positivo (negativo para salir):  2\n",
      "Ingrese número positivo (negativo para salir):  3\n",
      "Ingrese número positivo (negativo para salir):  0\n"
     ]
    }
   ],
   "source": [
    "# Resuelto sin funciones\n",
    "L = [] # almacenar datos para sacar media y desviacion estandar\n",
    "#solicitud de números\n",
    "while True:\n",
    "    n = float(input('Ingrese número positivo (negativo para salir): '))\n",
    "    if n>0:\n",
    "        L.append(n)\n",
    "    else:\n",
    "        break\n",
    "# una vez ingresados los datos, se hace el calculo de promedio\n",
    "acum = 0\n",
    "for i in range(0,len(L)):\n",
    "    acum += L[i]\n",
    "promedio = acum / len(L)\n",
    "\n",
    "# ya calculado el promedio, procedo a calcular la desviación estándar\n",
    "acum2 = 0\n",
    "for i in L:\n",
    "    acum2 += (promedio-i)**2\n",
    "    \n",
    "desviacion_standard = (acum2/(len(L)-1))**0.5\n",
    "    "
   ]
  },
  {
   "cell_type": "code",
   "execution_count": 45,
   "id": "fe875c66-a4d7-4ecb-9587-b4a2ee7d84cb",
   "metadata": {},
   "outputs": [
    {
     "name": "stdout",
     "output_type": "stream",
     "text": [
      "Hola, usuario\n"
     ]
    },
    {
     "name": "stdin",
     "output_type": "stream",
     "text": [
      "Ingrese numeros positivos (no positivo para salir):  1\n",
      "Ingrese numeros positivos (no positivo para salir):  2\n",
      "Ingrese numeros positivos (no positivo para salir):  3\n",
      "Ingrese numeros positivos (no positivo para salir):  0\n"
     ]
    },
    {
     "name": "stdout",
     "output_type": "stream",
     "text": [
      "[1.0, 2.0, 3.0] 2.0 0.7071067811865476\n"
     ]
    }
   ],
   "source": [
    "# Dividamos por subprocesos\n",
    "def solicitud_datos():\n",
    "    L = []\n",
    "    while True:\n",
    "        n = float(input('Ingrese numeros positivos (no positivo para salir): '))\n",
    "        if n > 0:\n",
    "            L.append(n)\n",
    "        else:\n",
    "            break\n",
    "    return L\n",
    "def calc_promedio(N):\n",
    "    acum = 0\n",
    "    for i in N:\n",
    "        acum += i\n",
    "    return acum/len(N)\n",
    "def calc_desviacion_standard(N,media):\n",
    "    acum = 0\n",
    "    for i in range(0,len(N)):https://uca.edu.sv/-xa0bVK\n",
    "        acum = (media-N[i])**2\n",
    "    return (acum/(len(N)-1))**0.5  \n",
    "# Programa principal\n",
    "L = 'Hola, usuario'\n",
    "print(L)\n",
    "Numeros = solicitud_datos()\n",
    "Promedio = calc_promedio(Numeros)\n",
    "DesviacionStandard = calc_desviacion_standard(Numeros,Promedio)\n",
    "\n",
    "print(Numeros,Promedio,DesviacionStandard)"
   ]
  },
  {
   "cell_type": "code",
   "execution_count": 41,
   "id": "28598724-3cba-48a1-83e9-d9c8f758e783",
   "metadata": {},
   "outputs": [
    {
     "data": {
      "text/plain": [
       "20.0"
      ]
     },
     "execution_count": 41,
     "metadata": {},
     "output_type": "execute_result"
    }
   ],
   "source": [
    "m = calc_promedio([10,20,30])\n",
    "m"
   ]
  },
  {
   "cell_type": "code",
   "execution_count": 31,
   "id": "a19e1b21-bb27-4d51-8f6e-b3c8d0320c86",
   "metadata": {},
   "outputs": [
    {
     "data": {
      "text/plain": [
       "([2.0, 6.0, 7.0], 7.0)"
      ]
     },
     "execution_count": 31,
     "metadata": {},
     "output_type": "execute_result"
    }
   ],
   "source": [
    "Numeros"
   ]
  },
  {
   "cell_type": "code",
   "execution_count": 13,
   "id": "73f5ba83-dc96-4d23-a7df-0bfcd6798d62",
   "metadata": {},
   "outputs": [
    {
     "ename": "NameError",
     "evalue": "name 'L' is not defined",
     "output_type": "error",
     "traceback": [
      "\u001b[0;31m---------------------------------------------------------------------------\u001b[0m",
      "\u001b[0;31mNameError\u001b[0m                                 Traceback (most recent call last)",
      "Cell \u001b[0;32mIn[13], line 1\u001b[0m\n\u001b[0;32m----> 1\u001b[0m L\n",
      "\u001b[0;31mNameError\u001b[0m: name 'L' is not defined"
     ]
    }
   ],
   "source": [
    "L"
   ]
  },
  {
   "cell_type": "code",
   "execution_count": null,
   "id": "5186adf0-58db-4910-8482-32e0346d55f4",
   "metadata": {},
   "outputs": [],
   "source": []
  }
 ],
 "metadata": {
  "kernelspec": {
   "display_name": "Python [conda env:base] *",
   "language": "python",
   "name": "conda-base-py"
  },
  "language_info": {
   "codemirror_mode": {
    "name": "ipython",
    "version": 3
   },
   "file_extension": ".py",
   "mimetype": "text/x-python",
   "name": "python",
   "nbconvert_exporter": "python",
   "pygments_lexer": "ipython3",
   "version": "3.12.7"
  }
 },
 "nbformat": 4,
 "nbformat_minor": 5
}
